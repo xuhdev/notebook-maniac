{
 "cells": [
  {
   "cell_type": "markdown",
   "metadata": {},
   "source": [
    "# Concept Abstractness\n",
    "During the last decades, the influence of psycholinguistic properties of words on cognitive processes has become a major topic of scientific inquiry. Among the most studied psycholinguistic attributes are concreteness, familiarity, imagery, and average age of acquisition. Abstractness quantifies the degree to which an expression denotes an entity that can be directly perceived by human senses. As an example, the word \"feminism\" is usually perceived as abstract, but the word \"screwdriver\" is associated with a concrete meaning.\n",
    "\n",
    "We introduce a weakly supervised approach for inferring the property of abstractness of words and expressions in the complete absence of labeled data. Exploiting only minimal linguistic clues and the contextual usage of a concept as manifested in textual data, we train sufficiently powerful classifiers, obtaining high correlation with human labels. The released dataset contains 300K Wikipedia concepts automatically rated for their degree of abstractness."
   ]
  },
  {
   "cell_type": "markdown",
   "metadata": {},
   "source": [
    "In this notebook we explore the [Concept Abstractness](https://www.research.ibm.com/haifa/dept/vst/debating_data.shtml#Concept%20Abstractness) dataset. The dataset can be obtained for free from the IBM Developer [Data Asset Exchange](https://developer.ibm.com/exchanges/data/).\n",
    "\n",
    "### Table of Contents:\n",
    "* [1. Loading the Data](#cell1)\n",
    "* [2. Data Visualization](#cell2)\n",
    "* [3. Data Cleaning and Mining](#cell3)\n",
    "* [4. Test Data Prediction](#cell4)"
   ]
  },
  {
   "cell_type": "markdown",
   "metadata": {},
   "source": [
    "<a id=\"cell1\"></a>\n",
    "## Loading the Data"
   ]
  },
  {
   "cell_type": "code",
   "execution_count": 1,
   "metadata": {},
   "outputs": [
    {
     "data": {
      "text/plain": [
       "3565650"
      ]
     },
     "execution_count": 1,
     "metadata": {},
     "output_type": "execute_result"
    }
   ],
   "source": [
    "import sys\n",
    "import requests\n",
    "import tarfile\n",
    "import re\n",
    "from os import path\n",
    "from pandas import DataFrame as df\n",
    "# Downloading the dataset\n",
    "# specifying the zip file name \n",
    "fname = 'concept-abstractness.tar.gz'\n",
    "url = 'http://s3.us-south.cloud-object-storage.appdomain.cloud/dax-assets-dev/dax-concept-abstractness/1.0.0/' + fname\n",
    "r = requests.get(url)\n",
    "open(fname , 'wb').write(r.content)"
   ]
  },
  {
   "cell_type": "code",
   "execution_count": 2,
   "metadata": {},
   "outputs": [],
   "source": [
    "# Extracting the dataset\n",
    "tar = tarfile.open(fname)\n",
    "tar.extractall()\n",
    "tar.close()"
   ]
  },
  {
   "cell_type": "code",
   "execution_count": 3,
   "metadata": {},
   "outputs": [
    {
     "data": {
      "text/plain": [
       "True"
      ]
     },
     "execution_count": 3,
     "metadata": {},
     "output_type": "execute_result"
    }
   ],
   "source": [
    "# Verifying the file was extracted properly\n",
    "data_path = \"prediction_unigrams.csv\"\n",
    "path.exists(data_path)"
   ]
  },
  {
   "cell_type": "code",
   "execution_count": 4,
   "metadata": {},
   "outputs": [
    {
     "data": {
      "text/html": [
       "<div>\n",
       "<style scoped>\n",
       "    .dataframe tbody tr th:only-of-type {\n",
       "        vertical-align: middle;\n",
       "    }\n",
       "\n",
       "    .dataframe tbody tr th {\n",
       "        vertical-align: top;\n",
       "    }\n",
       "\n",
       "    .dataframe thead th {\n",
       "        text-align: right;\n",
       "    }\n",
       "</style>\n",
       "<table border=\"1\" class=\"dataframe\">\n",
       "  <thead>\n",
       "    <tr style=\"text-align: right;\">\n",
       "      <th></th>\n",
       "      <th>Concept</th>\n",
       "      <th>Score</th>\n",
       "    </tr>\n",
       "  </thead>\n",
       "  <tbody>\n",
       "    <tr>\n",
       "      <th>0</th>\n",
       "      <td>aabavanan</td>\n",
       "      <td>0.224343</td>\n",
       "    </tr>\n",
       "    <tr>\n",
       "      <th>1</th>\n",
       "      <td>aabenraa</td>\n",
       "      <td>0.131792</td>\n",
       "    </tr>\n",
       "    <tr>\n",
       "      <th>2</th>\n",
       "      <td>aabey</td>\n",
       "      <td>0.300266</td>\n",
       "    </tr>\n",
       "    <tr>\n",
       "      <th>3</th>\n",
       "      <td>aachen</td>\n",
       "      <td>0.171785</td>\n",
       "    </tr>\n",
       "    <tr>\n",
       "      <th>4</th>\n",
       "      <td>aachtopf</td>\n",
       "      <td>0.089984</td>\n",
       "    </tr>\n",
       "  </tbody>\n",
       "</table>\n",
       "</div>"
      ],
      "text/plain": [
       "     Concept     Score\n",
       "0  aabavanan  0.224343\n",
       "1   aabenraa  0.131792\n",
       "2      aabey  0.300266\n",
       "3     aachen  0.171785\n",
       "4   aachtopf  0.089984"
      ]
     },
     "execution_count": 4,
     "metadata": {},
     "output_type": "execute_result"
    }
   ],
   "source": [
    "# load dataset into notebook\n",
    "# Load the Pandas libraries with alias 'pd' \n",
    "import pandas as pd \n",
    "# Read data from file 'filename.csv' \n",
    "# (in the same directory that your python process is based)\n",
    "# Control delimiters, rows, column names with read_csv (see later) \n",
    "# Using pandas to read the data \n",
    "model = pd.read_csv(data_path)\n",
    "# Preview the first 5 lines of the loaded data \n",
    "model.head()"
   ]
  },
  {
   "cell_type": "code",
   "execution_count": 5,
   "metadata": {},
   "outputs": [
    {
     "data": {
      "text/plain": [
       "99954"
      ]
     },
     "execution_count": 5,
     "metadata": {},
     "output_type": "execute_result"
    }
   ],
   "source": [
    "# Check the size of the data\n",
    "len(model)"
   ]
  },
  {
   "cell_type": "markdown",
   "metadata": {},
   "source": [
    "<a id=\"cell2\"></a>\n",
    "## Data Visulization"
   ]
  },
  {
   "cell_type": "code",
   "execution_count": 6,
   "metadata": {},
   "outputs": [],
   "source": [
    "# Data Visualization of abstractness distribution\n",
    "#import matplotlib.pyplot as plt\n",
    "import numpy as np\n",
    "from matplotlib import pyplot as plt"
   ]
  },
  {
   "cell_type": "code",
   "execution_count": 7,
   "metadata": {},
   "outputs": [
    {
     "data": {
      "text/plain": [
       "(0.0, 2990.0)"
      ]
     },
     "execution_count": 7,
     "metadata": {},
     "output_type": "execute_result"
    },
    {
     "data": {
      "image/png": "[encoded data removed]",
      "text/plain": [
       "<Figure size 432x288 with 1 Axes>"
      ]
     },
     "metadata": {
      "needs_background": "light"
     },
     "output_type": "display_data"
    }
   ],
   "source": [
    "# Generate Histogram\n",
    "X = model['Score']\n",
    "# An \"interface\" to matplotlib.axes.Axes.hist() method\n",
    "n, bins, patches = plt.hist(x=X, bins='auto', color='#0504aa', alpha=0.7, rwidth=0.85)\n",
    "plt.grid(axis='y', alpha=0.75)\n",
    "plt.xlabel('Value')\n",
    "plt.ylabel('Frequency')\n",
    "plt.title('Concept Abstractness')\n",
    "plt.text(23, 45, r'$\\mu=15, b=3$')\n",
    "plt.rcParams['figure.dpi'] = 50\n",
    "maxfreq = n.max()\n",
    "# Set a clean upper y-axis limit.\n",
    "plt.ylim(ymax=np.ceil(maxfreq / 10) * 10 if maxfreq % 10 else maxfreq + 10)"
   ]
  },
  {
   "cell_type": "markdown",
   "metadata": {},
   "source": [
    "<a id=\"cell3\"></a>\n",
    "## Data Cleaning and Manipulation"
   ]
  },
  {
   "cell_type": "code",
   "execution_count": 8,
   "metadata": {},
   "outputs": [
    {
     "data": {
      "text/plain": [
       "True"
      ]
     },
     "execution_count": 8,
     "metadata": {},
     "output_type": "execute_result"
    }
   ],
   "source": [
    "# Load Testing Data\n",
    "import sys\n",
    "import requests\n",
    "import tarfile\n",
    "import re\n",
    "from os import path\n",
    "from pandas import DataFrame as df\n",
    "# Downloading the dataset\n",
    "# specifying the zip file name \n",
    "fname = 'thematic-clustering-of-sentences.tar.gz'\n",
    "url = 'http://s3.us-south.cloud-object-storage.appdomain.cloud/dax-assets-dev/dax-thematic-clustering-of-sentences/1.0.0/' + fname\n",
    "r = requests.get(url)\n",
    "open(fname , 'wb').write(r.content)\n",
    "# Extracting the dataset\n",
    "tar = tarfile.open(fname)\n",
    "tar.extractall()\n",
    "tar.close()\n",
    "# Verifying the file was extracted properly\n",
    "data_path = \"dataset.csv\"\n",
    "path.exists(data_path)"
   ]
  },
  {
   "cell_type": "code",
   "execution_count": 9,
   "metadata": {},
   "outputs": [
    {
     "data": {
      "text/plain": [
       "['Article Title', 'Sentence', 'SectionTitle', 'Article Link']"
      ]
     },
     "execution_count": 9,
     "metadata": {},
     "output_type": "execute_result"
    }
   ],
   "source": [
    "# test data\n",
    "text = pd.read_csv(data_path)\n",
    "# Inspecting the fields\n",
    "list(text.columns) "
   ]
  },
  {
   "cell_type": "code",
   "execution_count": 10,
   "metadata": {},
   "outputs": [
    {
     "data": {
      "text/plain": [
       "Article Title    object\n",
       "Sentence         object\n",
       "SectionTitle     object\n",
       "Article Link     object\n",
       "dtype: object"
      ]
     },
     "execution_count": 10,
     "metadata": {},
     "output_type": "execute_result"
    }
   ],
   "source": [
    "# Inspecting the dtypes\n",
    "text.dtypes"
   ]
  },
  {
   "cell_type": "code",
   "execution_count": 11,
   "metadata": {},
   "outputs": [
    {
     "data": {
      "text/plain": [
       "692"
      ]
     },
     "execution_count": 11,
     "metadata": {},
     "output_type": "execute_result"
    }
   ],
   "source": [
    "# Extract the title of the data\n",
    "text = list(text.groupby(['Article Title']).groups.keys())\n",
    "len(text)"
   ]
  },
  {
   "cell_type": "code",
   "execution_count": 12,
   "metadata": {},
   "outputs": [],
   "source": [
    "# create dictionary\n",
    "dictionary = model.set_index('Concept').T.to_dict('list')"
   ]
  },
  {
   "cell_type": "markdown",
   "metadata": {},
   "source": [
    "## Prediction"
   ]
  },
  {
   "cell_type": "code",
   "execution_count": 13,
   "metadata": {},
   "outputs": [],
   "source": [
    "# Load Packages\n",
    "from nltk.tokenize import word_tokenize"
   ]
  },
  {
   "cell_type": "code",
   "execution_count": 14,
   "metadata": {},
   "outputs": [],
   "source": [
    "# Python program to get average of a list \n",
    "def Average(lst): \n",
    "    return sum(lst) / len(lst) "
   ]
  },
  {
   "cell_type": "code",
   "execution_count": 15,
   "metadata": {},
   "outputs": [],
   "source": [
    "# Calculate Prediction score of test data\n",
    "def predict_abstract(model, text):\n",
    "    # Extract all of the concepts in the model\n",
    "    word_tokens = list(model['Concept'])\n",
    "    df = pd.DataFrame(columns = ['Concept', 'prediction score'])\n",
    "    for i in text:\n",
    "        title_tokens = word_tokenize(i)\n",
    "        filtered_sentence = [w for w in title_tokens if w in word_tokens]\n",
    "        scores = []\n",
    "        if len(filtered_sentence)>0:\n",
    "            for j in filtered_sentence:\n",
    "                x = dictionary[j]\n",
    "                scores.append(x[0])\n",
    "            # Take the average of multiple abstract concept scores\n",
    "            score = Average(scores)\n",
    "            df = df.append({'Concept': i, 'prediction score': score}, ignore_index=True)\n",
    "    return df"
   ]
  },
  {
   "cell_type": "code",
   "execution_count": 16,
   "metadata": {},
   "outputs": [
    {
     "data": {
      "text/html": [
       "<div>\n",
       "<style scoped>\n",
       "    .dataframe tbody tr th:only-of-type {\n",
       "        vertical-align: middle;\n",
       "    }\n",
       "\n",
       "    .dataframe tbody tr th {\n",
       "        vertical-align: top;\n",
       "    }\n",
       "\n",
       "    .dataframe thead th {\n",
       "        text-align: right;\n",
       "    }\n",
       "</style>\n",
       "<table border=\"1\" class=\"dataframe\">\n",
       "  <thead>\n",
       "    <tr style=\"text-align: right;\">\n",
       "      <th></th>\n",
       "      <th>Concept</th>\n",
       "      <th>prediction score</th>\n",
       "    </tr>\n",
       "  </thead>\n",
       "  <tbody>\n",
       "    <tr>\n",
       "      <th>0</th>\n",
       "      <td>1920s in sociology</td>\n",
       "      <td>0.553010</td>\n",
       "    </tr>\n",
       "    <tr>\n",
       "      <th>1</th>\n",
       "      <td>1955 in the Vietnam War</td>\n",
       "      <td>0.423878</td>\n",
       "    </tr>\n",
       "    <tr>\n",
       "      <th>2</th>\n",
       "      <td>2009 NFL season</td>\n",
       "      <td>0.308886</td>\n",
       "    </tr>\n",
       "    <tr>\n",
       "      <th>3</th>\n",
       "      <td>A Trip to the Moon</td>\n",
       "      <td>0.423878</td>\n",
       "    </tr>\n",
       "    <tr>\n",
       "      <th>4</th>\n",
       "      <td>Account planning</td>\n",
       "      <td>0.542075</td>\n",
       "    </tr>\n",
       "    <tr>\n",
       "      <th>5</th>\n",
       "      <td>Adult comics</td>\n",
       "      <td>0.407683</td>\n",
       "    </tr>\n",
       "    <tr>\n",
       "      <th>6</th>\n",
       "      <td>Afghan presidential election, 2009</td>\n",
       "      <td>0.527030</td>\n",
       "    </tr>\n",
       "    <tr>\n",
       "      <th>7</th>\n",
       "      <td>Ancient Greek phonology</td>\n",
       "      <td>0.691283</td>\n",
       "    </tr>\n",
       "    <tr>\n",
       "      <th>8</th>\n",
       "      <td>Athabasca oil sands</td>\n",
       "      <td>0.377176</td>\n",
       "    </tr>\n",
       "    <tr>\n",
       "      <th>9</th>\n",
       "      <td>Automotive industry in the United States</td>\n",
       "      <td>0.423878</td>\n",
       "    </tr>\n",
       "    <tr>\n",
       "      <th>10</th>\n",
       "      <td>Balancing (international relations)</td>\n",
       "      <td>0.329495</td>\n",
       "    </tr>\n",
       "    <tr>\n",
       "      <th>11</th>\n",
       "      <td>Bentley–Ottmann algorithm</td>\n",
       "      <td>0.522952</td>\n",
       "    </tr>\n",
       "    <tr>\n",
       "      <th>12</th>\n",
       "      <td>Bra–ket notation</td>\n",
       "      <td>0.595207</td>\n",
       "    </tr>\n",
       "    <tr>\n",
       "      <th>13</th>\n",
       "      <td>Bride kidnapping</td>\n",
       "      <td>0.451548</td>\n",
       "    </tr>\n",
       "    <tr>\n",
       "      <th>14</th>\n",
       "      <td>British literature</td>\n",
       "      <td>0.574329</td>\n",
       "    </tr>\n",
       "    <tr>\n",
       "      <th>15</th>\n",
       "      <td>Brush mouse</td>\n",
       "      <td>0.336329</td>\n",
       "    </tr>\n",
       "    <tr>\n",
       "      <th>16</th>\n",
       "      <td>CAN bus</td>\n",
       "      <td>0.073388</td>\n",
       "    </tr>\n",
       "    <tr>\n",
       "      <th>17</th>\n",
       "      <td>Catholic peace traditions</td>\n",
       "      <td>0.733878</td>\n",
       "    </tr>\n",
       "    <tr>\n",
       "      <th>18</th>\n",
       "      <td>Censorship in the United Kingdom</td>\n",
       "      <td>0.423878</td>\n",
       "    </tr>\n",
       "    <tr>\n",
       "      <th>19</th>\n",
       "      <td>Child sexual abuse</td>\n",
       "      <td>0.715622</td>\n",
       "    </tr>\n",
       "  </tbody>\n",
       "</table>\n",
       "</div>"
      ],
      "text/plain": [
       "                                     Concept  prediction score\n",
       "0                         1920s in sociology          0.553010\n",
       "1                    1955 in the Vietnam War          0.423878\n",
       "2                            2009 NFL season          0.308886\n",
       "3                         A Trip to the Moon          0.423878\n",
       "4                           Account planning          0.542075\n",
       "5                               Adult comics          0.407683\n",
       "6         Afghan presidential election, 2009          0.527030\n",
       "7                    Ancient Greek phonology          0.691283\n",
       "8                        Athabasca oil sands          0.377176\n",
       "9   Automotive industry in the United States          0.423878\n",
       "10       Balancing (international relations)          0.329495\n",
       "11                 Bentley–Ottmann algorithm          0.522952\n",
       "12                          Bra–ket notation          0.595207\n",
       "13                          Bride kidnapping          0.451548\n",
       "14                        British literature          0.574329\n",
       "15                               Brush mouse          0.336329\n",
       "16                                   CAN bus          0.073388\n",
       "17                 Catholic peace traditions          0.733878\n",
       "18          Censorship in the United Kingdom          0.423878\n",
       "19                        Child sexual abuse          0.715622"
      ]
     },
     "execution_count": 16,
     "metadata": {},
     "output_type": "execute_result"
    }
   ],
   "source": [
    "# Show the top 20 lines of prediction score\n",
    "df = predict_abstract(model, text)\n",
    "df.head(20)"
   ]
  },
  {
   "cell_type": "markdown",
   "metadata": {},
   "source": [
    "# Explanation and interpretation of the data results"
   ]
  },
  {
   "cell_type": "markdown",
   "metadata": {},
   "source": [
    "what does high scores means? What does low scores means?\n",
    "For example, \"Child sexual abuse\" has a comparatively high score 0.7156. It means this phrase is relatively abstract because it does not specific the location, details and persona of the event. On the other hand, the phrase \"2009 NFL season\" represents more concrete details."
   ]
  }
 ],
 "metadata": {
  "kernelspec": {
   "display_name": "Python 3",
   "language": "python",
   "name": "python3"
  },
  "language_info": {
   "codemirror_mode": {
    "name": "ipython",
    "version": 3
   },
   "file_extension": ".py",
   "mimetype": "text/x-python",
   "name": "python",
   "nbconvert_exporter": "python",
   "pygments_lexer": "ipython3",
   "version": "3.7.3"
  }
 },
 "nbformat": 4,
 "nbformat_minor": 2
}
